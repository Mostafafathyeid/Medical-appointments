{
 "cells": [
  {
   "cell_type": "markdown",
   "metadata": {},
   "source": [
    "\n",
    "\n",
    "# Project: Investigate a Dataset - [No-show appointments]\n",
    "\n",
    "## Table of Contents\n",
    "<ul>\n",
    "<li><a href=\"#intro\">Introduction</a></li>\n",
    "<li><a href=\"#wrangling\">Data Wrangling</a></li>\n",
    "<li><a href=\"#eda\">Exploratory Data Analysis</a></li>\n",
    "<li><a href=\"#conclusions\">Conclusions</a></li>\n",
    "</ul>"
   ]
  },
  {
   "cell_type": "markdown",
   "metadata": {},
   "source": [
    "<a id='intro'></a>\n",
    "## Introduction\n",
    "\n",
    "### Dataset Description \n",
    "\n",
    "\n",
    "This dataset collects information from 100k medical appointments in Brazil and is focused on the question of whether or not patients show up for their appointment. A number of characteristics about the patient are included in each row.\n",
    "\n",
    "\"PatientId\": indicates the patient ID; duplication is possible due to cases where the same patient booked more than one appointment.\n",
    "\n",
    "\"AppointmentID\": indicates appoint ID, this field should be unique\n",
    "\n",
    "\"Gender\": indicates the patient's gender (M/F)\n",
    "\n",
    "\"AppointmentDay\": indicates the date/time the patient called to book their appointment.\n",
    "\n",
    "\"Age\": indicates the patient's age.\n",
    "\n",
    "\"ScheduledDay\" tells us on what day the patient set up their appointment.\n",
    "\n",
    "\"Neighborhood\" indicates the location of the hospital.\n",
    "\n",
    "\"Scholarship\" indicates whether or not the patient is enrolled in Brasilian welfare program Bolsa Família.\n",
    "\n",
    "\"Hipertension\": indicates whether or not the patient is experiencing Hypertension.\n",
    "\n",
    "\"Diabetes\": indicates whether or not the patient is experiencing Diabetes.\n",
    "\n",
    "\"Alcoholism\": indicates whether or not the patient is experiencing Alcoholism.\n",
    "\n",
    "\"Handcap\": indicates whether or not the patient is with special needs.\n",
    "\n",
    "\"SMS_received\": indicates whether or not the patient has received a reminder text message.\n",
    "\n",
    "\"No-show\" ‘No’ if the patient showed up to their appointment, and ‘Yes’ if they did not show up.\n",
    "\n",
    "\n",
    "### Question(s) for Analysis\n",
    "\n",
    "\n",
    "1-What is the overall appointment show vs no show rate?\n",
    "\n",
    "2- What factors are important to know in order to predict if a patient will show up for their scheduled appointment?"
   ]
  },
  {
   "cell_type": "code",
   "execution_count": 1,
   "metadata": {},
   "outputs": [],
   "source": [
    "import numpy as np\n",
    "import pandas as pd\n",
    "import matplotlib.pyplot as plt\n",
    "import seaborn as sns\n",
    "%matplotlib inline"
   ]
  },
  {
   "cell_type": "code",
   "execution_count": 2,
   "metadata": {},
   "outputs": [],
   "source": [
    "# Upgrade pandas to use dataframe.explode() function. \n",
    "#!pip install --upgrade pandas==0.25.0"
   ]
  },
  {
   "cell_type": "markdown",
   "metadata": {},
   "source": [
    "<a id='wrangling'></a>\n",
    "## Data Wrangling\n"
   ]
  },
  {
   "cell_type": "code",
   "execution_count": 3,
   "metadata": {},
   "outputs": [],
   "source": [
    "pd.options.display.max_rows = 999999"
   ]
  },
  {
   "cell_type": "code",
   "execution_count": 4,
   "metadata": {},
   "outputs": [],
   "source": [
    "# Load data and print out a few lines. Perform operations to inspect data\n",
    "#   types and look for instances of missing or possibly errant data.\n",
    "df=pd.read_csv('noshowappointments-kagglev2-may-2016.csv')"
   ]
  },
  {
   "cell_type": "code",
   "execution_count": 5,
   "metadata": {},
   "outputs": [
    {
     "data": {
      "text/html": [
       "<div>\n",
       "<style scoped>\n",
       "    .dataframe tbody tr th:only-of-type {\n",
       "        vertical-align: middle;\n",
       "    }\n",
       "\n",
       "    .dataframe tbody tr th {\n",
       "        vertical-align: top;\n",
       "    }\n",
       "\n",
       "    .dataframe thead th {\n",
       "        text-align: right;\n",
       "    }\n",
       "</style>\n",
       "<table border=\"1\" class=\"dataframe\">\n",
       "  <thead>\n",
       "    <tr style=\"text-align: right;\">\n",
       "      <th></th>\n",
       "      <th>PatientId</th>\n",
       "      <th>AppointmentID</th>\n",
       "      <th>Gender</th>\n",
       "      <th>ScheduledDay</th>\n",
       "      <th>AppointmentDay</th>\n",
       "      <th>Age</th>\n",
       "      <th>Neighbourhood</th>\n",
       "      <th>Scholarship</th>\n",
       "      <th>Hipertension</th>\n",
       "      <th>Diabetes</th>\n",
       "      <th>Alcoholism</th>\n",
       "      <th>Handcap</th>\n",
       "      <th>SMS_received</th>\n",
       "      <th>No-show</th>\n",
       "    </tr>\n",
       "  </thead>\n",
       "  <tbody>\n",
       "    <tr>\n",
       "      <th>0</th>\n",
       "      <td>2.987250e+13</td>\n",
       "      <td>5642903</td>\n",
       "      <td>F</td>\n",
       "      <td>2016-04-29T18:38:08Z</td>\n",
       "      <td>2016-04-29T00:00:00Z</td>\n",
       "      <td>62</td>\n",
       "      <td>JARDIM DA PENHA</td>\n",
       "      <td>0</td>\n",
       "      <td>1</td>\n",
       "      <td>0</td>\n",
       "      <td>0</td>\n",
       "      <td>0</td>\n",
       "      <td>0</td>\n",
       "      <td>No</td>\n",
       "    </tr>\n",
       "    <tr>\n",
       "      <th>1</th>\n",
       "      <td>5.589980e+14</td>\n",
       "      <td>5642503</td>\n",
       "      <td>M</td>\n",
       "      <td>2016-04-29T16:08:27Z</td>\n",
       "      <td>2016-04-29T00:00:00Z</td>\n",
       "      <td>56</td>\n",
       "      <td>JARDIM DA PENHA</td>\n",
       "      <td>0</td>\n",
       "      <td>0</td>\n",
       "      <td>0</td>\n",
       "      <td>0</td>\n",
       "      <td>0</td>\n",
       "      <td>0</td>\n",
       "      <td>No</td>\n",
       "    </tr>\n",
       "    <tr>\n",
       "      <th>2</th>\n",
       "      <td>4.262960e+12</td>\n",
       "      <td>5642549</td>\n",
       "      <td>F</td>\n",
       "      <td>2016-04-29T16:19:04Z</td>\n",
       "      <td>2016-04-29T00:00:00Z</td>\n",
       "      <td>62</td>\n",
       "      <td>MATA DA PRAIA</td>\n",
       "      <td>0</td>\n",
       "      <td>0</td>\n",
       "      <td>0</td>\n",
       "      <td>0</td>\n",
       "      <td>0</td>\n",
       "      <td>0</td>\n",
       "      <td>No</td>\n",
       "    </tr>\n",
       "    <tr>\n",
       "      <th>3</th>\n",
       "      <td>8.679510e+11</td>\n",
       "      <td>5642828</td>\n",
       "      <td>F</td>\n",
       "      <td>2016-04-29T17:29:31Z</td>\n",
       "      <td>2016-04-29T00:00:00Z</td>\n",
       "      <td>8</td>\n",
       "      <td>PONTAL DE CAMBURI</td>\n",
       "      <td>0</td>\n",
       "      <td>0</td>\n",
       "      <td>0</td>\n",
       "      <td>0</td>\n",
       "      <td>0</td>\n",
       "      <td>0</td>\n",
       "      <td>No</td>\n",
       "    </tr>\n",
       "    <tr>\n",
       "      <th>4</th>\n",
       "      <td>8.841190e+12</td>\n",
       "      <td>5642494</td>\n",
       "      <td>F</td>\n",
       "      <td>2016-04-29T16:07:23Z</td>\n",
       "      <td>2016-04-29T00:00:00Z</td>\n",
       "      <td>56</td>\n",
       "      <td>JARDIM DA PENHA</td>\n",
       "      <td>0</td>\n",
       "      <td>1</td>\n",
       "      <td>1</td>\n",
       "      <td>0</td>\n",
       "      <td>0</td>\n",
       "      <td>0</td>\n",
       "      <td>No</td>\n",
       "    </tr>\n",
       "  </tbody>\n",
       "</table>\n",
       "</div>"
      ],
      "text/plain": [
       "      PatientId  AppointmentID Gender          ScheduledDay  \\\n",
       "0  2.987250e+13        5642903      F  2016-04-29T18:38:08Z   \n",
       "1  5.589980e+14        5642503      M  2016-04-29T16:08:27Z   \n",
       "2  4.262960e+12        5642549      F  2016-04-29T16:19:04Z   \n",
       "3  8.679510e+11        5642828      F  2016-04-29T17:29:31Z   \n",
       "4  8.841190e+12        5642494      F  2016-04-29T16:07:23Z   \n",
       "\n",
       "         AppointmentDay  Age      Neighbourhood  Scholarship  Hipertension  \\\n",
       "0  2016-04-29T00:00:00Z   62    JARDIM DA PENHA            0             1   \n",
       "1  2016-04-29T00:00:00Z   56    JARDIM DA PENHA            0             0   \n",
       "2  2016-04-29T00:00:00Z   62      MATA DA PRAIA            0             0   \n",
       "3  2016-04-29T00:00:00Z    8  PONTAL DE CAMBURI            0             0   \n",
       "4  2016-04-29T00:00:00Z   56    JARDIM DA PENHA            0             1   \n",
       "\n",
       "   Diabetes  Alcoholism  Handcap  SMS_received No-show  \n",
       "0         0           0        0             0      No  \n",
       "1         0           0        0             0      No  \n",
       "2         0           0        0             0      No  \n",
       "3         0           0        0             0      No  \n",
       "4         1           0        0             0      No  "
      ]
     },
     "execution_count": 5,
     "metadata": {},
     "output_type": "execute_result"
    }
   ],
   "source": [
    "df.head()"
   ]
  },
  {
   "cell_type": "code",
   "execution_count": 6,
   "metadata": {},
   "outputs": [
    {
     "name": "stdout",
     "output_type": "stream",
     "text": [
      "<class 'pandas.core.frame.DataFrame'>\n",
      "RangeIndex: 110527 entries, 0 to 110526\n",
      "Data columns (total 14 columns):\n",
      "PatientId         110527 non-null float64\n",
      "AppointmentID     110527 non-null int64\n",
      "Gender            110527 non-null object\n",
      "ScheduledDay      110527 non-null object\n",
      "AppointmentDay    110527 non-null object\n",
      "Age               110527 non-null int64\n",
      "Neighbourhood     110527 non-null object\n",
      "Scholarship       110527 non-null int64\n",
      "Hipertension      110527 non-null int64\n",
      "Diabetes          110527 non-null int64\n",
      "Alcoholism        110527 non-null int64\n",
      "Handcap           110527 non-null int64\n",
      "SMS_received      110527 non-null int64\n",
      "No-show           110527 non-null object\n",
      "dtypes: float64(1), int64(8), object(5)\n",
      "memory usage: 11.8+ MB\n"
     ]
    }
   ],
   "source": [
    "df.info()"
   ]
  },
  {
   "cell_type": "markdown",
   "metadata": {},
   "source": [
    "There isn't any missing values"
   ]
  },
  {
   "cell_type": "code",
   "execution_count": 7,
   "metadata": {},
   "outputs": [
    {
     "data": {
      "text/plain": [
       "(110527, 14)"
      ]
     },
     "execution_count": 7,
     "metadata": {},
     "output_type": "execute_result"
    }
   ],
   "source": [
    "df.shape"
   ]
  },
  {
   "cell_type": "markdown",
   "metadata": {},
   "source": [
    "### Rename columns to be easier usage"
   ]
  },
  {
   "cell_type": "code",
   "execution_count": 8,
   "metadata": {},
   "outputs": [],
   "source": [
    "df.rename(str.lower, axis='columns',inplace=True)\n",
    "df.rename(columns={\"no-show\": \"no_show\"},inplace=True)"
   ]
  },
  {
   "cell_type": "code",
   "execution_count": 9,
   "metadata": {},
   "outputs": [],
   "source": [
    "df.rename(columns={\"patientid\":\"patient_id\",\"appointmentid\":\"appointment_id\",\"scheduledday\":\"scheduled_day\",\"appointmentday\":\"appointment_day\"},inplace=True)"
   ]
  },
  {
   "cell_type": "code",
   "execution_count": 10,
   "metadata": {},
   "outputs": [
    {
     "data": {
      "text/html": [
       "<div>\n",
       "<style scoped>\n",
       "    .dataframe tbody tr th:only-of-type {\n",
       "        vertical-align: middle;\n",
       "    }\n",
       "\n",
       "    .dataframe tbody tr th {\n",
       "        vertical-align: top;\n",
       "    }\n",
       "\n",
       "    .dataframe thead th {\n",
       "        text-align: right;\n",
       "    }\n",
       "</style>\n",
       "<table border=\"1\" class=\"dataframe\">\n",
       "  <thead>\n",
       "    <tr style=\"text-align: right;\">\n",
       "      <th></th>\n",
       "      <th>patient_id</th>\n",
       "      <th>appointment_id</th>\n",
       "      <th>gender</th>\n",
       "      <th>scheduled_day</th>\n",
       "      <th>appointment_day</th>\n",
       "      <th>age</th>\n",
       "      <th>neighbourhood</th>\n",
       "      <th>scholarship</th>\n",
       "      <th>hipertension</th>\n",
       "      <th>diabetes</th>\n",
       "      <th>alcoholism</th>\n",
       "      <th>handcap</th>\n",
       "      <th>sms_received</th>\n",
       "      <th>no_show</th>\n",
       "    </tr>\n",
       "  </thead>\n",
       "  <tbody>\n",
       "    <tr>\n",
       "      <th>0</th>\n",
       "      <td>2.987250e+13</td>\n",
       "      <td>5642903</td>\n",
       "      <td>F</td>\n",
       "      <td>2016-04-29T18:38:08Z</td>\n",
       "      <td>2016-04-29T00:00:00Z</td>\n",
       "      <td>62</td>\n",
       "      <td>JARDIM DA PENHA</td>\n",
       "      <td>0</td>\n",
       "      <td>1</td>\n",
       "      <td>0</td>\n",
       "      <td>0</td>\n",
       "      <td>0</td>\n",
       "      <td>0</td>\n",
       "      <td>No</td>\n",
       "    </tr>\n",
       "    <tr>\n",
       "      <th>1</th>\n",
       "      <td>5.589980e+14</td>\n",
       "      <td>5642503</td>\n",
       "      <td>M</td>\n",
       "      <td>2016-04-29T16:08:27Z</td>\n",
       "      <td>2016-04-29T00:00:00Z</td>\n",
       "      <td>56</td>\n",
       "      <td>JARDIM DA PENHA</td>\n",
       "      <td>0</td>\n",
       "      <td>0</td>\n",
       "      <td>0</td>\n",
       "      <td>0</td>\n",
       "      <td>0</td>\n",
       "      <td>0</td>\n",
       "      <td>No</td>\n",
       "    </tr>\n",
       "    <tr>\n",
       "      <th>2</th>\n",
       "      <td>4.262960e+12</td>\n",
       "      <td>5642549</td>\n",
       "      <td>F</td>\n",
       "      <td>2016-04-29T16:19:04Z</td>\n",
       "      <td>2016-04-29T00:00:00Z</td>\n",
       "      <td>62</td>\n",
       "      <td>MATA DA PRAIA</td>\n",
       "      <td>0</td>\n",
       "      <td>0</td>\n",
       "      <td>0</td>\n",
       "      <td>0</td>\n",
       "      <td>0</td>\n",
       "      <td>0</td>\n",
       "      <td>No</td>\n",
       "    </tr>\n",
       "    <tr>\n",
       "      <th>3</th>\n",
       "      <td>8.679510e+11</td>\n",
       "      <td>5642828</td>\n",
       "      <td>F</td>\n",
       "      <td>2016-04-29T17:29:31Z</td>\n",
       "      <td>2016-04-29T00:00:00Z</td>\n",
       "      <td>8</td>\n",
       "      <td>PONTAL DE CAMBURI</td>\n",
       "      <td>0</td>\n",
       "      <td>0</td>\n",
       "      <td>0</td>\n",
       "      <td>0</td>\n",
       "      <td>0</td>\n",
       "      <td>0</td>\n",
       "      <td>No</td>\n",
       "    </tr>\n",
       "    <tr>\n",
       "      <th>4</th>\n",
       "      <td>8.841190e+12</td>\n",
       "      <td>5642494</td>\n",
       "      <td>F</td>\n",
       "      <td>2016-04-29T16:07:23Z</td>\n",
       "      <td>2016-04-29T00:00:00Z</td>\n",
       "      <td>56</td>\n",
       "      <td>JARDIM DA PENHA</td>\n",
       "      <td>0</td>\n",
       "      <td>1</td>\n",
       "      <td>1</td>\n",
       "      <td>0</td>\n",
       "      <td>0</td>\n",
       "      <td>0</td>\n",
       "      <td>No</td>\n",
       "    </tr>\n",
       "  </tbody>\n",
       "</table>\n",
       "</div>"
      ],
      "text/plain": [
       "     patient_id  appointment_id gender         scheduled_day  \\\n",
       "0  2.987250e+13         5642903      F  2016-04-29T18:38:08Z   \n",
       "1  5.589980e+14         5642503      M  2016-04-29T16:08:27Z   \n",
       "2  4.262960e+12         5642549      F  2016-04-29T16:19:04Z   \n",
       "3  8.679510e+11         5642828      F  2016-04-29T17:29:31Z   \n",
       "4  8.841190e+12         5642494      F  2016-04-29T16:07:23Z   \n",
       "\n",
       "        appointment_day  age      neighbourhood  scholarship  hipertension  \\\n",
       "0  2016-04-29T00:00:00Z   62    JARDIM DA PENHA            0             1   \n",
       "1  2016-04-29T00:00:00Z   56    JARDIM DA PENHA            0             0   \n",
       "2  2016-04-29T00:00:00Z   62      MATA DA PRAIA            0             0   \n",
       "3  2016-04-29T00:00:00Z    8  PONTAL DE CAMBURI            0             0   \n",
       "4  2016-04-29T00:00:00Z   56    JARDIM DA PENHA            0             1   \n",
       "\n",
       "   diabetes  alcoholism  handcap  sms_received no_show  \n",
       "0         0           0        0             0      No  \n",
       "1         0           0        0             0      No  \n",
       "2         0           0        0             0      No  \n",
       "3         0           0        0             0      No  \n",
       "4         1           0        0             0      No  "
      ]
     },
     "execution_count": 10,
     "metadata": {},
     "output_type": "execute_result"
    }
   ],
   "source": [
    " df.head()"
   ]
  },
  {
   "cell_type": "markdown",
   "metadata": {},
   "source": [
    "\n",
    "### Data Cleaning\n"
   ]
  },
  {
   "cell_type": "markdown",
   "metadata": {},
   "source": [
    "### drop patient_id and\tappointment_id"
   ]
  },
  {
   "cell_type": "code",
   "execution_count": 11,
   "metadata": {},
   "outputs": [],
   "source": [
    "# After discussing the structure of the data and any problems that need to be\n",
    "#   cleaned, perform those cleaning steps in the second part of this section.\n",
    "df.drop(['patient_id', 'appointment_id'], axis = 1, inplace = True)"
   ]
  },
  {
   "cell_type": "markdown",
   "metadata": {},
   "source": [
    "### drop duplicated rows"
   ]
  },
  {
   "cell_type": "code",
   "execution_count": 12,
   "metadata": {},
   "outputs": [
    {
     "data": {
      "text/plain": [
       "635"
      ]
     },
     "execution_count": 12,
     "metadata": {},
     "output_type": "execute_result"
    }
   ],
   "source": [
    "# Check for duplicate rows \n",
    "df.duplicated().sum()"
   ]
  },
  {
   "cell_type": "code",
   "execution_count": 13,
   "metadata": {},
   "outputs": [],
   "source": [
    "df.drop_duplicates(inplace=True)"
   ]
  },
  {
   "cell_type": "code",
   "execution_count": 14,
   "metadata": {},
   "outputs": [
    {
     "data": {
      "text/plain": [
       "0"
      ]
     },
     "execution_count": 14,
     "metadata": {},
     "output_type": "execute_result"
    }
   ],
   "source": [
    "df.duplicated().sum()"
   ]
  },
  {
   "cell_type": "code",
   "execution_count": 15,
   "metadata": {},
   "outputs": [
    {
     "name": "stdout",
     "output_type": "stream",
     "text": [
      "<class 'pandas.core.frame.DataFrame'>\n",
      "Int64Index: 109892 entries, 0 to 110526\n",
      "Data columns (total 12 columns):\n",
      "gender             109892 non-null object\n",
      "scheduled_day      109892 non-null object\n",
      "appointment_day    109892 non-null object\n",
      "age                109892 non-null int64\n",
      "neighbourhood      109892 non-null object\n",
      "scholarship        109892 non-null int64\n",
      "hipertension       109892 non-null int64\n",
      "diabetes           109892 non-null int64\n",
      "alcoholism         109892 non-null int64\n",
      "handcap            109892 non-null int64\n",
      "sms_received       109892 non-null int64\n",
      "no_show            109892 non-null object\n",
      "dtypes: int64(7), object(5)\n",
      "memory usage: 10.9+ MB\n"
     ]
    }
   ],
   "source": [
    "df.info()"
   ]
  },
  {
   "cell_type": "code",
   "execution_count": 16,
   "metadata": {},
   "outputs": [
    {
     "data": {
      "text/plain": [
       "(109892, 12)"
      ]
     },
     "execution_count": 16,
     "metadata": {},
     "output_type": "execute_result"
    }
   ],
   "source": [
    "df.shape"
   ]
  },
  {
   "cell_type": "code",
   "execution_count": 17,
   "metadata": {},
   "outputs": [
    {
     "data": {
      "text/plain": [
       "array([ 62,  56,   8,  76,  23,  39,  21,  19,  30,  29,  22,  28,  54,\n",
       "        15,  50,  40,  46,   4,  13,  65,  45,  51,  32,  12,  61,  38,\n",
       "        79,  18,  63,  64,  85,  59,  55,  71,  49,  78,  31,  58,  27,\n",
       "         6,   2,  11,   7,   0,   3,   1,  69,  68,  60,  67,  36,  10,\n",
       "        35,  20,  26,  34,  33,  16,  42,   5,  47,  17,  41,  44,  37,\n",
       "        24,  66,  77,  81,  70,  53,  75,  73,  52,  74,  43,  89,  57,\n",
       "        14,   9,  48,  83,  72,  25,  80,  87,  88,  84,  82,  90,  94,\n",
       "        86,  91,  98,  92,  96,  93,  95,  97, 102, 115, 100,  99,  -1],\n",
       "      dtype=int64)"
      ]
     },
     "execution_count": 17,
     "metadata": {},
     "output_type": "execute_result"
    }
   ],
   "source": [
    "df.age.unique()"
   ]
  },
  {
   "cell_type": "markdown",
   "metadata": {},
   "source": [
    "### drop invalid value of age"
   ]
  },
  {
   "cell_type": "code",
   "execution_count": 18,
   "metadata": {},
   "outputs": [
    {
     "data": {
      "text/plain": [
       "(109891, 12)"
      ]
     },
     "execution_count": 18,
     "metadata": {},
     "output_type": "execute_result"
    }
   ],
   "source": [
    "df = df[df.age != -1]\n",
    "df.shape"
   ]
  },
  {
   "cell_type": "code",
   "execution_count": 19,
   "metadata": {},
   "outputs": [
    {
     "data": {
      "text/plain": [
       "0      3530\n",
       "1      2271\n",
       "52     1738\n",
       "49     1645\n",
       "53     1641\n",
       "38     1624\n",
       "56     1623\n",
       "2      1616\n",
       "59     1612\n",
       "50     1601\n",
       "57     1597\n",
       "36     1567\n",
       "51     1561\n",
       "19     1533\n",
       "39     1525\n",
       "54     1523\n",
       "34     1518\n",
       "33     1516\n",
       "37     1516\n",
       "6      1512\n",
       "3      1509\n",
       "30     1505\n",
       "17     1498\n",
       "32     1488\n",
       "5      1482\n",
       "18     1474\n",
       "44     1474\n",
       "58     1459\n",
       "46     1451\n",
       "45     1450\n",
       "21     1441\n",
       "28     1440\n",
       "20     1428\n",
       "7      1420\n",
       "31     1419\n",
       "8      1412\n",
       "55     1406\n",
       "60     1403\n",
       "29     1397\n",
       "40     1393\n",
       "48     1392\n",
       "16     1389\n",
       "47     1388\n",
       "27     1372\n",
       "35     1371\n",
       "63     1368\n",
       "22     1367\n",
       "9      1357\n",
       "23     1344\n",
       "41     1339\n",
       "43     1332\n",
       "61     1332\n",
       "64     1327\n",
       "25     1322\n",
       "62     1307\n",
       "4      1297\n",
       "26     1273\n",
       "42     1268\n",
       "10     1266\n",
       "24     1233\n",
       "15     1205\n",
       "11     1187\n",
       "66     1186\n",
       "14     1110\n",
       "13     1095\n",
       "65     1095\n",
       "12     1089\n",
       "68     1012\n",
       "67      972\n",
       "69      826\n",
       "73      720\n",
       "70      718\n",
       "71      692\n",
       "72      614\n",
       "74      601\n",
       "76      570\n",
       "78      541\n",
       "75      540\n",
       "77      525\n",
       "80      509\n",
       "81      430\n",
       "82      391\n",
       "79      389\n",
       "84      310\n",
       "83      278\n",
       "85      274\n",
       "86      256\n",
       "87      184\n",
       "89      172\n",
       "88      125\n",
       "90      109\n",
       "92       84\n",
       "91       66\n",
       "93       53\n",
       "94       33\n",
       "95       24\n",
       "96       17\n",
       "97       11\n",
       "98        6\n",
       "115       4\n",
       "100       3\n",
       "102       2\n",
       "99        1\n",
       "Name: age, dtype: int64"
      ]
     },
     "execution_count": 19,
     "metadata": {},
     "output_type": "execute_result"
    }
   ],
   "source": [
    "df.age.value_counts()"
   ]
  },
  {
   "cell_type": "code",
   "execution_count": 20,
   "metadata": {},
   "outputs": [
    {
     "data": {
      "text/plain": [
       "115"
      ]
     },
     "execution_count": 20,
     "metadata": {},
     "output_type": "execute_result"
    }
   ],
   "source": [
    "df.age.max()"
   ]
  },
  {
   "cell_type": "code",
   "execution_count": 21,
   "metadata": {},
   "outputs": [],
   "source": [
    "#group of age:\n",
    "labels = [ '0-24','25-49','50-74','75-99','100-124']\n",
    "df['age_group'] = pd.cut(df.age, range(0, 126, 25), right=False, labels=labels)\n",
    "df['age_group'] = df.age_group.astype(str)"
   ]
  },
  {
   "cell_type": "code",
   "execution_count": 22,
   "metadata": {},
   "outputs": [
    {
     "name": "stdout",
     "output_type": "stream",
     "text": [
      "<class 'pandas.core.frame.DataFrame'>\n",
      "Int64Index: 109891 entries, 0 to 110526\n",
      "Data columns (total 13 columns):\n",
      "gender             109891 non-null object\n",
      "scheduled_day      109891 non-null object\n",
      "appointment_day    109891 non-null object\n",
      "age                109891 non-null int64\n",
      "neighbourhood      109891 non-null object\n",
      "scholarship        109891 non-null int64\n",
      "hipertension       109891 non-null int64\n",
      "diabetes           109891 non-null int64\n",
      "alcoholism         109891 non-null int64\n",
      "handcap            109891 non-null int64\n",
      "sms_received       109891 non-null int64\n",
      "no_show            109891 non-null object\n",
      "age_group          109891 non-null object\n",
      "dtypes: int64(7), object(6)\n",
      "memory usage: 11.7+ MB\n"
     ]
    }
   ],
   "source": [
    "df.info()"
   ]
  },
  {
   "cell_type": "markdown",
   "metadata": {},
   "source": [
    "<a id='eda'></a>\n",
    "## Exploratory Data Analysis"
   ]
  },
  {
   "cell_type": "code",
   "execution_count": 23,
   "metadata": {},
   "outputs": [
    {
     "data": {
      "text/html": [
       "<div>\n",
       "<style scoped>\n",
       "    .dataframe tbody tr th:only-of-type {\n",
       "        vertical-align: middle;\n",
       "    }\n",
       "\n",
       "    .dataframe tbody tr th {\n",
       "        vertical-align: top;\n",
       "    }\n",
       "\n",
       "    .dataframe thead th {\n",
       "        text-align: right;\n",
       "    }\n",
       "</style>\n",
       "<table border=\"1\" class=\"dataframe\">\n",
       "  <thead>\n",
       "    <tr style=\"text-align: right;\">\n",
       "      <th></th>\n",
       "      <th>gender</th>\n",
       "      <th>scheduled_day</th>\n",
       "      <th>appointment_day</th>\n",
       "      <th>age</th>\n",
       "      <th>neighbourhood</th>\n",
       "      <th>scholarship</th>\n",
       "      <th>hipertension</th>\n",
       "      <th>diabetes</th>\n",
       "      <th>alcoholism</th>\n",
       "      <th>handcap</th>\n",
       "      <th>sms_received</th>\n",
       "      <th>no_show</th>\n",
       "      <th>age_group</th>\n",
       "    </tr>\n",
       "  </thead>\n",
       "  <tbody>\n",
       "    <tr>\n",
       "      <th>0</th>\n",
       "      <td>F</td>\n",
       "      <td>2016-04-29T18:38:08Z</td>\n",
       "      <td>2016-04-29T00:00:00Z</td>\n",
       "      <td>62</td>\n",
       "      <td>JARDIM DA PENHA</td>\n",
       "      <td>0</td>\n",
       "      <td>1</td>\n",
       "      <td>0</td>\n",
       "      <td>0</td>\n",
       "      <td>0</td>\n",
       "      <td>0</td>\n",
       "      <td>No</td>\n",
       "      <td>50-74</td>\n",
       "    </tr>\n",
       "    <tr>\n",
       "      <th>1</th>\n",
       "      <td>M</td>\n",
       "      <td>2016-04-29T16:08:27Z</td>\n",
       "      <td>2016-04-29T00:00:00Z</td>\n",
       "      <td>56</td>\n",
       "      <td>JARDIM DA PENHA</td>\n",
       "      <td>0</td>\n",
       "      <td>0</td>\n",
       "      <td>0</td>\n",
       "      <td>0</td>\n",
       "      <td>0</td>\n",
       "      <td>0</td>\n",
       "      <td>No</td>\n",
       "      <td>50-74</td>\n",
       "    </tr>\n",
       "    <tr>\n",
       "      <th>2</th>\n",
       "      <td>F</td>\n",
       "      <td>2016-04-29T16:19:04Z</td>\n",
       "      <td>2016-04-29T00:00:00Z</td>\n",
       "      <td>62</td>\n",
       "      <td>MATA DA PRAIA</td>\n",
       "      <td>0</td>\n",
       "      <td>0</td>\n",
       "      <td>0</td>\n",
       "      <td>0</td>\n",
       "      <td>0</td>\n",
       "      <td>0</td>\n",
       "      <td>No</td>\n",
       "      <td>50-74</td>\n",
       "    </tr>\n",
       "    <tr>\n",
       "      <th>3</th>\n",
       "      <td>F</td>\n",
       "      <td>2016-04-29T17:29:31Z</td>\n",
       "      <td>2016-04-29T00:00:00Z</td>\n",
       "      <td>8</td>\n",
       "      <td>PONTAL DE CAMBURI</td>\n",
       "      <td>0</td>\n",
       "      <td>0</td>\n",
       "      <td>0</td>\n",
       "      <td>0</td>\n",
       "      <td>0</td>\n",
       "      <td>0</td>\n",
       "      <td>No</td>\n",
       "      <td>0-24</td>\n",
       "    </tr>\n",
       "    <tr>\n",
       "      <th>4</th>\n",
       "      <td>F</td>\n",
       "      <td>2016-04-29T16:07:23Z</td>\n",
       "      <td>2016-04-29T00:00:00Z</td>\n",
       "      <td>56</td>\n",
       "      <td>JARDIM DA PENHA</td>\n",
       "      <td>0</td>\n",
       "      <td>1</td>\n",
       "      <td>1</td>\n",
       "      <td>0</td>\n",
       "      <td>0</td>\n",
       "      <td>0</td>\n",
       "      <td>No</td>\n",
       "      <td>50-74</td>\n",
       "    </tr>\n",
       "  </tbody>\n",
       "</table>\n",
       "</div>"
      ],
      "text/plain": [
       "  gender         scheduled_day       appointment_day  age      neighbourhood  \\\n",
       "0      F  2016-04-29T18:38:08Z  2016-04-29T00:00:00Z   62    JARDIM DA PENHA   \n",
       "1      M  2016-04-29T16:08:27Z  2016-04-29T00:00:00Z   56    JARDIM DA PENHA   \n",
       "2      F  2016-04-29T16:19:04Z  2016-04-29T00:00:00Z   62      MATA DA PRAIA   \n",
       "3      F  2016-04-29T17:29:31Z  2016-04-29T00:00:00Z    8  PONTAL DE CAMBURI   \n",
       "4      F  2016-04-29T16:07:23Z  2016-04-29T00:00:00Z   56    JARDIM DA PENHA   \n",
       "\n",
       "   scholarship  hipertension  diabetes  alcoholism  handcap  sms_received  \\\n",
       "0            0             1         0           0        0             0   \n",
       "1            0             0         0           0        0             0   \n",
       "2            0             0         0           0        0             0   \n",
       "3            0             0         0           0        0             0   \n",
       "4            0             1         1           0        0             0   \n",
       "\n",
       "  no_show age_group  \n",
       "0      No     50-74  \n",
       "1      No     50-74  \n",
       "2      No     50-74  \n",
       "3      No      0-24  \n",
       "4      No     50-74  "
      ]
     },
     "execution_count": 23,
     "metadata": {},
     "output_type": "execute_result"
    }
   ],
   "source": [
    "# Use this, and more code cells, to explore data. Don't forget to add\n",
    "#   Markdown cells to document your observations and findings.\n",
    "df.head()"
   ]
  },
  {
   "cell_type": "code",
   "execution_count": 24,
   "metadata": {},
   "outputs": [
    {
     "data": {
      "text/html": [
       "<div>\n",
       "<style scoped>\n",
       "    .dataframe tbody tr th:only-of-type {\n",
       "        vertical-align: middle;\n",
       "    }\n",
       "\n",
       "    .dataframe tbody tr th {\n",
       "        vertical-align: top;\n",
       "    }\n",
       "\n",
       "    .dataframe thead th {\n",
       "        text-align: right;\n",
       "    }\n",
       "</style>\n",
       "<table border=\"1\" class=\"dataframe\">\n",
       "  <thead>\n",
       "    <tr style=\"text-align: right;\">\n",
       "      <th></th>\n",
       "      <th>age</th>\n",
       "      <th>scholarship</th>\n",
       "      <th>hipertension</th>\n",
       "      <th>diabetes</th>\n",
       "      <th>alcoholism</th>\n",
       "      <th>handcap</th>\n",
       "      <th>sms_received</th>\n",
       "    </tr>\n",
       "  </thead>\n",
       "  <tbody>\n",
       "    <tr>\n",
       "      <th>count</th>\n",
       "      <td>109891.000000</td>\n",
       "      <td>109891.000000</td>\n",
       "      <td>109891.000000</td>\n",
       "      <td>109891.000000</td>\n",
       "      <td>109891.000000</td>\n",
       "      <td>109891.000000</td>\n",
       "      <td>109891.000000</td>\n",
       "    </tr>\n",
       "    <tr>\n",
       "      <th>mean</th>\n",
       "      <td>37.089853</td>\n",
       "      <td>0.098288</td>\n",
       "      <td>0.197250</td>\n",
       "      <td>0.071826</td>\n",
       "      <td>0.030430</td>\n",
       "      <td>0.022131</td>\n",
       "      <td>0.322884</td>\n",
       "    </tr>\n",
       "    <tr>\n",
       "      <th>std</th>\n",
       "      <td>23.121015</td>\n",
       "      <td>0.297705</td>\n",
       "      <td>0.397924</td>\n",
       "      <td>0.258200</td>\n",
       "      <td>0.171769</td>\n",
       "      <td>0.160879</td>\n",
       "      <td>0.467581</td>\n",
       "    </tr>\n",
       "    <tr>\n",
       "      <th>min</th>\n",
       "      <td>0.000000</td>\n",
       "      <td>0.000000</td>\n",
       "      <td>0.000000</td>\n",
       "      <td>0.000000</td>\n",
       "      <td>0.000000</td>\n",
       "      <td>0.000000</td>\n",
       "      <td>0.000000</td>\n",
       "    </tr>\n",
       "    <tr>\n",
       "      <th>25%</th>\n",
       "      <td>18.000000</td>\n",
       "      <td>0.000000</td>\n",
       "      <td>0.000000</td>\n",
       "      <td>0.000000</td>\n",
       "      <td>0.000000</td>\n",
       "      <td>0.000000</td>\n",
       "      <td>0.000000</td>\n",
       "    </tr>\n",
       "    <tr>\n",
       "      <th>50%</th>\n",
       "      <td>37.000000</td>\n",
       "      <td>0.000000</td>\n",
       "      <td>0.000000</td>\n",
       "      <td>0.000000</td>\n",
       "      <td>0.000000</td>\n",
       "      <td>0.000000</td>\n",
       "      <td>0.000000</td>\n",
       "    </tr>\n",
       "    <tr>\n",
       "      <th>75%</th>\n",
       "      <td>55.000000</td>\n",
       "      <td>0.000000</td>\n",
       "      <td>0.000000</td>\n",
       "      <td>0.000000</td>\n",
       "      <td>0.000000</td>\n",
       "      <td>0.000000</td>\n",
       "      <td>1.000000</td>\n",
       "    </tr>\n",
       "    <tr>\n",
       "      <th>max</th>\n",
       "      <td>115.000000</td>\n",
       "      <td>1.000000</td>\n",
       "      <td>1.000000</td>\n",
       "      <td>1.000000</td>\n",
       "      <td>1.000000</td>\n",
       "      <td>4.000000</td>\n",
       "      <td>1.000000</td>\n",
       "    </tr>\n",
       "  </tbody>\n",
       "</table>\n",
       "</div>"
      ],
      "text/plain": [
       "                 age    scholarship   hipertension       diabetes  \\\n",
       "count  109891.000000  109891.000000  109891.000000  109891.000000   \n",
       "mean       37.089853       0.098288       0.197250       0.071826   \n",
       "std        23.121015       0.297705       0.397924       0.258200   \n",
       "min         0.000000       0.000000       0.000000       0.000000   \n",
       "25%        18.000000       0.000000       0.000000       0.000000   \n",
       "50%        37.000000       0.000000       0.000000       0.000000   \n",
       "75%        55.000000       0.000000       0.000000       0.000000   \n",
       "max       115.000000       1.000000       1.000000       1.000000   \n",
       "\n",
       "          alcoholism        handcap   sms_received  \n",
       "count  109891.000000  109891.000000  109891.000000  \n",
       "mean        0.030430       0.022131       0.322884  \n",
       "std         0.171769       0.160879       0.467581  \n",
       "min         0.000000       0.000000       0.000000  \n",
       "25%         0.000000       0.000000       0.000000  \n",
       "50%         0.000000       0.000000       0.000000  \n",
       "75%         0.000000       0.000000       1.000000  \n",
       "max         1.000000       4.000000       1.000000  "
      ]
     },
     "execution_count": 24,
     "metadata": {},
     "output_type": "execute_result"
    }
   ],
   "source": [
    "df.describe()"
   ]
  },
  {
   "cell_type": "code",
   "execution_count": 25,
   "metadata": {},
   "outputs": [
    {
     "name": "stderr",
     "output_type": "stream",
     "text": [
      "C:\\ProgramData\\Anaconda3\\lib\\site-packages\\pandas\\plotting\\_matplotlib\\tools.py:307: MatplotlibDeprecationWarning: \n",
      "The rowNum attribute was deprecated in Matplotlib 3.2 and will be removed two minor releases later. Use ax.get_subplotspec().rowspan.start instead.\n",
      "  layout[ax.rowNum, ax.colNum] = ax.get_visible()\n",
      "C:\\ProgramData\\Anaconda3\\lib\\site-packages\\pandas\\plotting\\_matplotlib\\tools.py:307: MatplotlibDeprecationWarning: \n",
      "The colNum attribute was deprecated in Matplotlib 3.2 and will be removed two minor releases later. Use ax.get_subplotspec().colspan.start instead.\n",
      "  layout[ax.rowNum, ax.colNum] = ax.get_visible()\n",
      "C:\\ProgramData\\Anaconda3\\lib\\site-packages\\pandas\\plotting\\_matplotlib\\tools.py:313: MatplotlibDeprecationWarning: \n",
      "The rowNum attribute was deprecated in Matplotlib 3.2 and will be removed two minor releases later. Use ax.get_subplotspec().rowspan.start instead.\n",
      "  if not layout[ax.rowNum + 1, ax.colNum]:\n",
      "C:\\ProgramData\\Anaconda3\\lib\\site-packages\\pandas\\plotting\\_matplotlib\\tools.py:313: MatplotlibDeprecationWarning: \n",
      "The colNum attribute was deprecated in Matplotlib 3.2 and will be removed two minor releases later. Use ax.get_subplotspec().colspan.start instead.\n",
      "  if not layout[ax.rowNum + 1, ax.colNum]:\n"
     ]
    },
    {
     "data": {
      "image/png": "[encoded data removed]",
      "text/plain": [
       "<Figure size 720x576 with 9 Axes>"
      ]
     },
     "metadata": {
      "needs_background": "light"
     },
     "output_type": "display_data"
    }
   ],
   "source": [
    "df.hist(figsize=(10,8));"
   ]
  },
  {
   "cell_type": "markdown",
   "metadata": {},
   "source": [
    "### Research Question 1: what is the overall appointment show vs no show rate?"
   ]
  },
  {
   "cell_type": "code",
   "execution_count": 26,
   "metadata": {},
   "outputs": [
    {
     "data": {
      "image/png": "[encoded data removed]",
      "text/plain": [
       "<Figure size 720x720 with 1 Axes>"
      ]
     },
     "metadata": {},
     "output_type": "display_data"
    }
   ],
   "source": [
    "pp=df.no_show.value_counts()\n",
    "pp.plot.pie(figsize=(10,10), autopct='%1.2f%%', fontsize = 15,title='No-show per appointment');"
   ]
  },
  {
   "cell_type": "markdown",
   "metadata": {},
   "source": [
    " the overall show rate is 79.89%.\n",
    " \n",
    " the overall no show rate is 20.11%."
   ]
  },
  {
   "cell_type": "code",
   "execution_count": 27,
   "metadata": {},
   "outputs": [],
   "source": [
    "attend = df[df.no_show == \"No\"]\n",
    "miss = df[df.no_show == \"Yes\"]"
   ]
  },
  {
   "cell_type": "markdown",
   "metadata": {},
   "source": [
    "### Research Question 2 What factors are important to know in order to predict if a patient will show up for their scheduled appointment?"
   ]
  },
  {
   "cell_type": "markdown",
   "metadata": {},
   "source": [
    "### Q2.1 Gender?"
   ]
  },
  {
   "cell_type": "code",
   "execution_count": 28,
   "metadata": {},
   "outputs": [
    {
     "data": {
      "text/plain": [
       "F    71416\n",
       "M    38475\n",
       "Name: gender, dtype: int64"
      ]
     },
     "execution_count": 28,
     "metadata": {},
     "output_type": "execute_result"
    }
   ],
   "source": [
    "df.gender.value_counts()"
   ]
  },
  {
   "cell_type": "code",
   "execution_count": 29,
   "metadata": {},
   "outputs": [],
   "source": [
    "N_of_female = df[df.gender == \"F\"].gender.count()\n",
    "N_of_male = df[df.gender == \"M\"].gender.count()"
   ]
  },
  {
   "cell_type": "code",
   "execution_count": 30,
   "metadata": {},
   "outputs": [
    {
     "data": {
      "image/png": "[encoded data removed]",
      "text/plain": [
       "<Figure size 720x720 with 1 Axes>"
      ]
     },
     "metadata": {},
     "output_type": "display_data"
    }
   ],
   "source": [
    "df.gender.value_counts().plot.pie(figsize=(10,10), autopct='%1.2f%%', fontsize = 15,title='Gender per appointment')\n",
    "plt.legend();"
   ]
  },
  {
   "cell_type": "code",
   "execution_count": 31,
   "metadata": {},
   "outputs": [
    {
     "data": {
      "text/plain": [
       "F    56961\n",
       "M    30832\n",
       "Name: gender, dtype: int64"
      ]
     },
     "execution_count": 31,
     "metadata": {},
     "output_type": "execute_result"
    }
   ],
   "source": [
    "attend.gender.value_counts()"
   ]
  },
  {
   "cell_type": "code",
   "execution_count": 32,
   "metadata": {},
   "outputs": [],
   "source": [
    "female_att = attend[attend.gender == \"F\"].gender.count()\n",
    "male_att = attend[attend.gender == \"M\"].gender.count()"
   ]
  },
  {
   "cell_type": "code",
   "execution_count": 33,
   "metadata": {},
   "outputs": [
    {
     "data": {
      "text/plain": [
       "F    14455\n",
       "M     7643\n",
       "Name: gender, dtype: int64"
      ]
     },
     "execution_count": 33,
     "metadata": {},
     "output_type": "execute_result"
    }
   ],
   "source": [
    "miss.gender.value_counts()"
   ]
  },
  {
   "cell_type": "code",
   "execution_count": 34,
   "metadata": {},
   "outputs": [],
   "source": [
    "female_miss=miss[miss.gender == \"F\"].gender.count()\n",
    "male_miss=miss[miss.gender == \"M\"].gender.count()"
   ]
  },
  {
   "cell_type": "code",
   "execution_count": 35,
   "metadata": {},
   "outputs": [
    {
     "name": "stdout",
     "output_type": "stream",
     "text": [
      "show Female=  79.75943766102834 %\n",
      "no show Female=  20.24056233897166 %\n",
      "show male=  80.1351526965562 %\n",
      "no show male=  19.864847303443796 %\n"
     ]
    }
   ],
   "source": [
    "pct_female_att=female_att/N_of_female\n",
    "pct_female_miss=female_miss/N_of_female\n",
    "pct_male_att=male_att/N_of_male\n",
    "pct_male_miss=male_miss/N_of_male\n",
    "print('show Female= ',pct_female_att*100,'%')\n",
    "print('no show Female= ',pct_female_miss*100,'%')\n",
    "print('show male= ',pct_male_att*100,'%')\n",
    "print('no show male= ',pct_male_miss*100,'%')"
   ]
  },
  {
   "cell_type": "code",
   "execution_count": 36,
   "metadata": {},
   "outputs": [
    {
     "data": {
      "image/png": "[encoded data removed]",
      "text/plain": [
       "<Figure size 432x288 with 1 Axes>"
      ]
     },
     "metadata": {
      "needs_background": "light"
     },
     "output_type": "display_data"
    }
   ],
   "source": [
    "attend.gender.value_counts().plot(kind='bar',alpha=0.7, color= 'blue', label='show')\n",
    "ax=miss.gender.value_counts().plot(kind='bar',alpha=0.7, color= 'green', label='no show')\n",
    "ax.set_title('Show vs No show by Gender')\n",
    "ax.set_xlabel('Gender', fontsize = 12)\n",
    "ax.set_ylabel('N.of Appointments', fontsize = 12)\n",
    "plt.legend();"
   ]
  },
  {
   "cell_type": "markdown",
   "metadata": {},
   "source": [
    "#### summary:"
   ]
  },
  {
   "cell_type": "markdown",
   "metadata": {},
   "source": [
    "The proportion of appointments where patients who are females is 64.99%\n",
    "\n",
    "The proportion of appointments where patients who are males is 35.01%\n",
    "\n",
    "The Show up rate of patients who are male is the highest with 80.14%, where the show up rate of patients who are female is 79.75%"
   ]
  },
  {
   "cell_type": "markdown",
   "metadata": {},
   "source": [
    "### Q2.2 Age?"
   ]
  },
  {
   "cell_type": "markdown",
   "metadata": {},
   "source": [
    "There are many values of age so i will make a new columns of group of age"
   ]
  },
  {
   "cell_type": "code",
   "execution_count": 37,
   "metadata": {
    "scrolled": true
   },
   "outputs": [
    {
     "data": {
      "text/plain": [
       "0-24       37065\n",
       "25-49      35985\n",
       "50-74      30934\n",
       "75-99       5898\n",
       "100-124        9\n",
       "Name: age_group, dtype: int64"
      ]
     },
     "execution_count": 37,
     "metadata": {},
     "output_type": "execute_result"
    }
   ],
   "source": [
    "df.age_group.value_counts()"
   ]
  },
  {
   "cell_type": "code",
   "execution_count": 38,
   "metadata": {},
   "outputs": [],
   "source": [
    "N_from_0_to_24=df[df.age_group == \"0-24\"].age_group.count()\n",
    "N_from_25_to_49=df[df.age_group == \"25-49\"].age_group.count()\n",
    "N_from_50_to_74=df[df.age_group == \"50-74\"].age_group.count()\n",
    "N_from_75_to_99=df[df.age_group == \"75-99\"].age_group.count()\n",
    "N_from_100_to_124=df[df.age_group == \"100-124\"].age_group.count()"
   ]
  },
  {
   "cell_type": "code",
   "execution_count": 39,
   "metadata": {},
   "outputs": [
    {
     "data": {
      "image/png": "[encoded data removed]",
      "text/plain": [
       "<Figure size 720x720 with 1 Axes>"
      ]
     },
     "metadata": {},
     "output_type": "display_data"
    }
   ],
   "source": [
    "pp=df.age_group.value_counts()\n",
    "pp.plot.pie(figsize=(10,10), autopct='%1.2f%%', fontsize = 12,title='Group of Age per appointment')\n",
    "plt.legend();"
   ]
  },
  {
   "cell_type": "code",
   "execution_count": 40,
   "metadata": {},
   "outputs": [],
   "source": [
    "g1_att=attend[attend.age_group == \"0-24\"].age_group.count()\n",
    "g2_att=attend[attend.age_group == \"25-49\"].age_group.count()\n",
    "g3_att=attend[attend.age_group == \"50-74\"].age_group.count()\n",
    "g4_att=attend[attend.age_group == \"75-99\"].age_group.count()\n",
    "g5_att=attend[attend.age_group == \"100-124\"].age_group.count()"
   ]
  },
  {
   "cell_type": "code",
   "execution_count": 41,
   "metadata": {},
   "outputs": [],
   "source": [
    "g1_miss=miss[miss.age_group == \"0-24\"].age_group.count()\n",
    "g2_miss=miss[miss.age_group == \"25-49\"].age_group.count()\n",
    "g3_miss=miss[miss.age_group == \"50-74\"].age_group.count()\n",
    "g4_miss=miss[miss.age_group == \"75-99\"].age_group.count()\n",
    "g5_miss=miss[miss.age_group == \"100-124\"].age_group.count()"
   ]
  },
  {
   "cell_type": "code",
   "execution_count": 42,
   "metadata": {},
   "outputs": [
    {
     "name": "stdout",
     "output_type": "stream",
     "text": [
      "from_0_to_24 show=  77.33980844462431 %\n",
      "from_0_to_24 no show=  22.660191555375693 %\n",
      "from_25_to_49 show=  78.47436431846603 %\n",
      "from_25_to_49 no show=  21.525635681533974 %\n",
      "from_50_to_74 show=  83.77513415659146 %\n",
      "from_50_to_74 no show=  16.224865843408548 %\n",
      "from_75_to_99 show=  84.19803323160393 %\n",
      "from_75_to_99 no show=  15.801966768396067 %\n",
      "from_100_to_124 show=  77.77777777777779 %\n",
      "from_100_to_124 no show=  22.22222222222222 %\n"
     ]
    }
   ],
   "source": [
    "pct_g1_att=g1_att/N_from_0_to_24\n",
    "pct_g1_miss=g1_miss/N_from_0_to_24\n",
    "pct_g2_att=g2_att/N_from_25_to_49\n",
    "pct_g2_miss=g2_miss/N_from_25_to_49\n",
    "pct_g3_att=g3_att/N_from_50_to_74\n",
    "pct_g3_miss=g3_miss/N_from_50_to_74\n",
    "pct_g4_att=g4_att/N_from_75_to_99\n",
    "pct_g4_miss=g4_miss/N_from_75_to_99\n",
    "pct_g5_att=g5_att/N_from_100_to_124\n",
    "pct_g5_miss=g5_miss/N_from_100_to_124\n",
    "print('from_0_to_24 show= ',pct_g1_att*100,'%')\n",
    "print('from_0_to_24 no show= ',pct_g1_miss*100,'%')\n",
    "print('from_25_to_49 show= ',pct_g2_att*100,'%')\n",
    "print('from_25_to_49 no show= ',pct_g2_miss*100,'%')\n",
    "print('from_50_to_74 show= ',pct_g3_att*100,'%')\n",
    "print('from_50_to_74 no show= ',pct_g3_miss*100,'%')\n",
    "print('from_75_to_99 show= ',pct_g4_att*100,'%')\n",
    "print('from_75_to_99 no show= ',pct_g4_miss*100,'%')\n",
    "print('from_100_to_124 show= ',pct_g5_att*100,'%')\n",
    "print('from_100_to_124 no show= ',pct_g5_miss*100,'%')"
   ]
  },
  {
   "cell_type": "code",
   "execution_count": 43,
   "metadata": {},
   "outputs": [
    {
     "data": {
      "image/png": "[encoded data removed]",
      "text/plain": [
       "<Figure size 432x288 with 1 Axes>"
      ]
     },
     "metadata": {
      "needs_background": "light"
     },
     "output_type": "display_data"
    }
   ],
   "source": [
    "attend.age_group.value_counts().plot(kind='bar',alpha=0.7, color= 'blue', label='show')\n",
    "ax=miss.age_group.value_counts().plot(kind='bar',alpha=0.7, color= 'green', label='no show')\n",
    "ax.set_title('Show vs No show by Group of Age')\n",
    "ax.set_xlabel('Group_Age', fontsize = 12)\n",
    "ax.set_ylabel('N.of Appointments', fontsize = 12)\n",
    "plt.legend();"
   ]
  },
  {
   "cell_type": "markdown",
   "metadata": {},
   "source": [
    "#### summary:"
   ]
  },
  {
   "cell_type": "markdown",
   "metadata": {},
   "source": [
    "The proportion of appointments where patients who are group1 (from 0 to 24) is 33.73%\n",
    "\n",
    "The proportion of appointments where patients who are group2 (from 25 to 49) is 32.75%\n",
    "\n",
    "The proportion of appointments where patients who are group3 (from 50 to 74) is 28.15%\n",
    "\n",
    "The proportion of appointments where patients who are group4 (from 75 to 99) is 5.37%\n",
    "\n",
    "The proportion of appointments where patients who are group5 (from 100 to 124) is 0.01%\n",
    "\n",
    "The Show up rate of patients who are group4 is the highest with 84.19%"
   ]
  },
  {
   "cell_type": "markdown",
   "metadata": {},
   "source": [
    "### Q2.3 Scholarship?"
   ]
  },
  {
   "cell_type": "code",
   "execution_count": 44,
   "metadata": {},
   "outputs": [
    {
     "data": {
      "text/plain": [
       "0    99090\n",
       "1    10801\n",
       "Name: scholarship, dtype: int64"
      ]
     },
     "execution_count": 44,
     "metadata": {},
     "output_type": "execute_result"
    }
   ],
   "source": [
    "df.scholarship.value_counts()"
   ]
  },
  {
   "cell_type": "code",
   "execution_count": 45,
   "metadata": {},
   "outputs": [],
   "source": [
    "N_scholarship=df[df.scholarship == 1].scholarship.count()\n",
    "N_no_scholarship=df[df.scholarship == 0].scholarship.count()"
   ]
  },
  {
   "cell_type": "code",
   "execution_count": 46,
   "metadata": {},
   "outputs": [
    {
     "data": {
      "image/png": "[encoded data removed]",
      "text/plain": [
       "<Figure size 720x720 with 1 Axes>"
      ]
     },
     "metadata": {},
     "output_type": "display_data"
    }
   ],
   "source": [
    "df.scholarship.value_counts().plot.pie(figsize=(10,10), autopct='%1.2f%%', fontsize = 15,title='Scholarship per appointment')\n",
    "plt.legend();"
   ]
  },
  {
   "cell_type": "code",
   "execution_count": 47,
   "metadata": {},
   "outputs": [],
   "source": [
    "scholarship_att=attend[attend.scholarship == 1].scholarship.count()\n",
    "no_scholarship_att=attend[attend.scholarship == 0].scholarship.count()"
   ]
  },
  {
   "cell_type": "code",
   "execution_count": 48,
   "metadata": {},
   "outputs": [],
   "source": [
    "scholarship_miss=miss[miss.scholarship == 1].scholarship.count()\n",
    "no_scholarship_miss=miss[miss.scholarship == 0].scholarship.count()"
   ]
  },
  {
   "cell_type": "code",
   "execution_count": 49,
   "metadata": {},
   "outputs": [
    {
     "name": "stdout",
     "output_type": "stream",
     "text": [
      "scholarship show=  76.3355244884733 %\n",
      "scholarship no show=  23.66447551152671 %\n",
      "No scholarship show=  80.27853466545565 %\n",
      "No scholarship no show=  19.72146533454435 %\n"
     ]
    }
   ],
   "source": [
    "pct_scholarship_att=scholarship_att/N_scholarship\n",
    "pct_scholarship_miss=scholarship_miss/N_scholarship\n",
    "pct_no_scholarship_att=no_scholarship_att/N_no_scholarship\n",
    "pct_no_scholarship_miss=no_scholarship_miss/N_no_scholarship\n",
    "print('scholarship show= ',pct_scholarship_att*100,'%')\n",
    "print('scholarship no show= ',pct_scholarship_miss*100,'%')\n",
    "print('No scholarship show= ',pct_no_scholarship_att*100,'%')\n",
    "print('No scholarship no show= ',pct_no_scholarship_miss*100,'%')"
   ]
  },
  {
   "cell_type": "code",
   "execution_count": 50,
   "metadata": {},
   "outputs": [
    {
     "data": {
      "image/png": "[encoded data removed]",
      "text/plain": [
       "<Figure size 432x288 with 1 Axes>"
      ]
     },
     "metadata": {
      "needs_background": "light"
     },
     "output_type": "display_data"
    }
   ],
   "source": [
    "attend.scholarship.value_counts().plot(kind='bar',alpha=0.7, color= 'blue', label='show')\n",
    "ax=miss.scholarship.value_counts().plot(kind='bar',alpha=0.7, color= 'green', label='no show')\n",
    "ax.set_title('Show vs No show by Scholarship')\n",
    "ax.set_xlabel('Scholarship', fontsize = 12)\n",
    "ax.set_ylabel('N.of Appointments', fontsize = 12)\n",
    "plt.legend();"
   ]
  },
  {
   "cell_type": "markdown",
   "metadata": {},
   "source": [
    "#### summary:"
   ]
  },
  {
   "cell_type": "markdown",
   "metadata": {},
   "source": [
    "The proportion of appointments where patients who have scholarship is 9.83%\n",
    "\n",
    "The proportion of appointments where patients who don't have scholarship is 90.17%\n",
    "\n",
    "The Show up rate of patients who are don't have scholarship is the highest with 80.27%, where the show up rate of patients who have scholarship is 76.33%"
   ]
  },
  {
   "cell_type": "markdown",
   "metadata": {},
   "source": [
    "### Q2.4 SMS_Received?"
   ]
  },
  {
   "cell_type": "code",
   "execution_count": 51,
   "metadata": {},
   "outputs": [
    {
     "data": {
      "text/plain": [
       "0    74409\n",
       "1    35482\n",
       "Name: sms_received, dtype: int64"
      ]
     },
     "execution_count": 51,
     "metadata": {},
     "output_type": "execute_result"
    }
   ],
   "source": [
    "df.sms_received.value_counts()"
   ]
  },
  {
   "cell_type": "code",
   "execution_count": 52,
   "metadata": {},
   "outputs": [],
   "source": [
    "N_received_sms=df[df.sms_received == 1].sms_received.count()\n",
    "N_no_sms=df[df.sms_received == 0].sms_received.count()"
   ]
  },
  {
   "cell_type": "code",
   "execution_count": 53,
   "metadata": {},
   "outputs": [
    {
     "data": {
      "image/png": "[encoded data removed]",
      "text/plain": [
       "<Figure size 720x720 with 1 Axes>"
      ]
     },
     "metadata": {},
     "output_type": "display_data"
    }
   ],
   "source": [
    "df.sms_received.value_counts().plot.pie(figsize=(10,10), autopct='%1.2f%%', fontsize = 15,title='SMS_Recevied per appointment')\n",
    "plt.legend();"
   ]
  },
  {
   "cell_type": "code",
   "execution_count": 54,
   "metadata": {},
   "outputs": [],
   "source": [
    "received_sms_att=attend[attend.sms_received == 1].sms_received.count()\n",
    "no_sms_att=attend[attend.sms_received == 0].sms_received.count()"
   ]
  },
  {
   "cell_type": "code",
   "execution_count": 55,
   "metadata": {},
   "outputs": [],
   "source": [
    "received_sms_miss=miss[miss.sms_received == 1].sms_received.count()\n",
    "no_sms_miss=miss[miss.sms_received == 0].sms_received.count()"
   ]
  },
  {
   "cell_type": "code",
   "execution_count": 56,
   "metadata": {},
   "outputs": [
    {
     "name": "stdout",
     "output_type": "stream",
     "text": [
      "sms recevied show=  72.425455160363 %\n",
      "sms recevied no show=  27.574544839637 %\n",
      "No sms received show=  83.45092663521886 %\n",
      "No sms received no show=  16.54907336478114 %\n"
     ]
    }
   ],
   "source": [
    "pct_received_sms_att=received_sms_att/N_received_sms\n",
    "pct_received_sms_miss=received_sms_miss/N_received_sms\n",
    "pct_no_sms_att=no_sms_att/N_no_sms\n",
    "pct_no_sms_miss=no_sms_miss/N_no_sms\n",
    "print('sms recevied show= ',pct_received_sms_att*100,'%')\n",
    "print('sms recevied no show= ',pct_received_sms_miss*100,'%')\n",
    "print('No sms received show= ',pct_no_sms_att*100,'%')\n",
    "print('No sms received no show= ',pct_no_sms_miss*100,'%')"
   ]
  },
  {
   "cell_type": "code",
   "execution_count": 57,
   "metadata": {},
   "outputs": [
    {
     "data": {
      "image/png": "[encoded data removed]",
      "text/plain": [
       "<Figure size 432x288 with 1 Axes>"
      ]
     },
     "metadata": {
      "needs_background": "light"
     },
     "output_type": "display_data"
    }
   ],
   "source": [
    "attend.sms_received.value_counts().plot(kind='bar',alpha=0.7, color= 'blue', label='show')\n",
    "ax=miss.sms_received.value_counts().plot(kind='bar',alpha=0.7, color= 'green', label='no show')\n",
    "ax.set_title('Show vs No show by SMS_Received')\n",
    "ax.set_xlabel('sms_received', fontsize = 12)\n",
    "ax.set_ylabel('N.of Appointments', fontsize = 12)\n",
    "plt.legend();"
   ]
  },
  {
   "cell_type": "markdown",
   "metadata": {},
   "source": [
    "#### summary:"
   ]
  },
  {
   "cell_type": "markdown",
   "metadata": {},
   "source": [
    "The proportion of appointments where patients who receive sms  67.71%\n",
    "\n",
    "The proportion of patients who don't receive sms is  32.29%\n",
    "\n",
    "The Show-up rate of patients who don't receive sms is the highest with 83.45%, where the show-up rate of patients who receive sms is 72.42%"
   ]
  },
  {
   "cell_type": "markdown",
   "metadata": {},
   "source": [
    "<a id='conclusions'></a>\n",
    "## Conclusions\n",
    "\n",
    "\n",
    "\n",
    "### Limitations\n",
    "\n",
    "\n",
    "Limitations & Assumptions:\n",
    "\n",
    "1-Most of the calculations performed in this project are based on the number of apppointments not patients.\n",
    "\n",
    "2- As we were not able to obtain sufficient explanation on specific cases where data was not consistent, we've excluded 6 data entries from the original dataset. original size 110527; new size: 110526.\n",
    "\n",
    "questions:\n",
    "\n",
    "1-What is the overall appointment show vs no show rate?\n",
    "\n",
    "2- What factors are important to know in order to predict if a patient will show up for their scheduled appointment?\n",
    "\n",
    "results:\n",
    "\n",
    "1-the overall show rate is 79.89%.\n",
    " \n",
    "2-the overall no show rate is 20.11%.\n",
    "\n",
    "3-The proportion of appointments where patients who are females is 64.99%\n",
    "\n",
    "4-The proportion of appointments where patients who are males is 35.01%\n",
    "\n",
    "5-The Show up rate of patients who are male is the highest with 80.14%, where the show up rate of patients who are female is 79.75%\n",
    "\n",
    "6-The proportion of appointments where patients who are (from 0 to 24) is 33.73%\n",
    "\n",
    "7-The proportion of appointments where patients who are (from 25 to 49) is 32.75%\n",
    "\n",
    "8-The proportion of appointments where patients who are (from 50 to 74) is 28.15%\n",
    "\n",
    "9-The proportion of appointments where patients who are (from 75 to 99) is 5.37%\n",
    "\n",
    "10-The proportion of appointments where patients who are (from 100 to 124) is 0.01%\n",
    "\n",
    "11-The Show up rate of patients who are (from 75 to 99) is the highest with 84.19%\n",
    "\n",
    "12-The proportion of appointments where patients who have scholarship is 9.83%\n",
    "\n",
    "13-The proportion of appointments where patients who don't have scholarship is 90.17%\n",
    "\n",
    "14-The Show rate of patients who are don't have scholarship is the highest with 80.27%, where the show rate of patients who have scholarship is 76.33%\n",
    "\n",
    "15-The proportion of appointments where patients who receive sms  67.71%\n",
    "\n",
    "16-The proportion of patients who don't receive sms is  32.29%\n",
    "\n",
    "17-The Show-up rate of patients who don't receive sms is the highest with 83.45%, where the show-up rate of patients who receive sms is 72.42%"
   ]
  },
  {
   "cell_type": "code",
   "execution_count": 58,
   "metadata": {},
   "outputs": [],
   "source": [
    "x = df.drop(['no_show', 'gender', 'scheduled_day', 'appointment_day', 'neighbourhood', 'age_group'], axis = 1)\n",
    "y = df['no_show']"
   ]
  },
  {
   "cell_type": "code",
   "execution_count": 59,
   "metadata": {},
   "outputs": [],
   "source": [
    "y = np.where(y == \"Yes\", 1, 0)"
   ]
  },
  {
   "cell_type": "code",
   "execution_count": 60,
   "metadata": {},
   "outputs": [],
   "source": [
    "import statsmodels.api as sms;\n",
    "from sklearn.datasets import load_boston"
   ]
  },
  {
   "cell_type": "code",
   "execution_count": 61,
   "metadata": {},
   "outputs": [
    {
     "name": "stdout",
     "output_type": "stream",
     "text": [
      "Optimization terminated successfully.\n",
      "         Current function value: 0.491563\n",
      "         Iterations 6\n"
     ]
    }
   ],
   "source": [
    "import statsmodels.api as sm;\n",
    "x['intercept']=1\n",
    "ml=sm.Logit(y,x[['intercept','age', 'scholarship', 'hipertension', 'diabetes', 'alcoholism', 'handcap', 'sms_received']])\n",
    "results=ml.fit()"
   ]
  },
  {
   "cell_type": "code",
   "execution_count": 62,
   "metadata": {},
   "outputs": [
    {
     "data": {
      "text/html": [
       "<table class=\"simpletable\">\n",
       "<tr>\n",
       "        <td>Model:</td>              <td>Logit</td>      <td>Pseudo R-squared:</td>    <td>0.021</td>   \n",
       "</tr>\n",
       "<tr>\n",
       "  <td>Dependent Variable:</td>         <td>y</td>              <td>AIC:</td>        <td>108052.7157</td>\n",
       "</tr>\n",
       "<tr>\n",
       "         <td>Date:</td>        <td>2022-11-08 22:29</td>       <td>BIC:</td>        <td>108129.5737</td>\n",
       "</tr>\n",
       "<tr>\n",
       "   <td>No. Observations:</td>       <td>109891</td>       <td>Log-Likelihood:</td>    <td>-54018.</td>  \n",
       "</tr>\n",
       "<tr>\n",
       "       <td>Df Model:</td>              <td>7</td>            <td>LL-Null:</td>        <td>-55155.</td>  \n",
       "</tr>\n",
       "<tr>\n",
       "     <td>Df Residuals:</td>         <td>109883</td>        <td>LLR p-value:</td>      <td>0.0000</td>   \n",
       "</tr>\n",
       "<tr>\n",
       "      <td>Converged:</td>           <td>1.0000</td>           <td>Scale:</td>         <td>1.0000</td>   \n",
       "</tr>\n",
       "<tr>\n",
       "    <td>No. Iterations:</td>        <td>6.0000</td>              <td></td>               <td></td>      \n",
       "</tr>\n",
       "</table>\n",
       "<table class=\"simpletable\">\n",
       "<tr>\n",
       "        <td></td>        <th>Coef.</th>  <th>Std.Err.</th>     <th>z</th>     <th>P>|z|</th> <th>[0.025</th>  <th>0.975]</th> \n",
       "</tr>\n",
       "<tr>\n",
       "  <th>intercept</th>    <td>-1.4014</td>  <td>0.0159</td>  <td>-88.3831</td> <td>0.0000</td> <td>-1.4325</td> <td>-1.3703</td>\n",
       "</tr>\n",
       "<tr>\n",
       "  <th>age</th>          <td>-0.0066</td>  <td>0.0004</td>  <td>-16.8904</td> <td>0.0000</td> <td>-0.0074</td> <td>-0.0058</td>\n",
       "</tr>\n",
       "<tr>\n",
       "  <th>scholarship</th>  <td>0.1894</td>   <td>0.0244</td>   <td>7.7674</td>  <td>0.0000</td> <td>0.1416</td>  <td>0.2372</td> \n",
       "</tr>\n",
       "<tr>\n",
       "  <th>hipertension</th> <td>-0.0707</td>  <td>0.0247</td>   <td>-2.8601</td> <td>0.0042</td> <td>-0.1192</td> <td>-0.0223</td>\n",
       "</tr>\n",
       "<tr>\n",
       "  <th>diabetes</th>     <td>0.0965</td>   <td>0.0343</td>   <td>2.8160</td>  <td>0.0049</td> <td>0.0293</td>  <td>0.1636</td> \n",
       "</tr>\n",
       "<tr>\n",
       "  <th>alcoholism</th>   <td>0.1312</td>   <td>0.0447</td>   <td>2.9327</td>  <td>0.0034</td> <td>0.0435</td>  <td>0.2188</td> \n",
       "</tr>\n",
       "<tr>\n",
       "  <th>handcap</th>      <td>0.0287</td>   <td>0.0490</td>   <td>0.5868</td>  <td>0.5573</td> <td>-0.0672</td> <td>0.1247</td> \n",
       "</tr>\n",
       "<tr>\n",
       "  <th>sms_received</th> <td>0.6621</td>   <td>0.0155</td>   <td>42.6914</td> <td>0.0000</td> <td>0.6317</td>  <td>0.6924</td> \n",
       "</tr>\n",
       "</table>"
      ],
      "text/plain": [
       "<class 'statsmodels.iolib.summary2.Summary'>\n",
       "\"\"\"\n",
       "                          Results: Logit\n",
       "==================================================================\n",
       "Model:              Logit            Pseudo R-squared: 0.021      \n",
       "Dependent Variable: y                AIC:              108052.7157\n",
       "Date:               2022-11-08 22:29 BIC:              108129.5737\n",
       "No. Observations:   109891           Log-Likelihood:   -54018.    \n",
       "Df Model:           7                LL-Null:          -55155.    \n",
       "Df Residuals:       109883           LLR p-value:      0.0000     \n",
       "Converged:          1.0000           Scale:            1.0000     \n",
       "No. Iterations:     6.0000                                        \n",
       "-------------------------------------------------------------------\n",
       "               Coef.   Std.Err.     z      P>|z|    [0.025   0.975]\n",
       "-------------------------------------------------------------------\n",
       "intercept     -1.4014    0.0159  -88.3831  0.0000  -1.4325  -1.3703\n",
       "age           -0.0066    0.0004  -16.8904  0.0000  -0.0074  -0.0058\n",
       "scholarship    0.1894    0.0244    7.7674  0.0000   0.1416   0.2372\n",
       "hipertension  -0.0707    0.0247   -2.8601  0.0042  -0.1192  -0.0223\n",
       "diabetes       0.0965    0.0343    2.8160  0.0049   0.0293   0.1636\n",
       "alcoholism     0.1312    0.0447    2.9327  0.0034   0.0435   0.2188\n",
       "handcap        0.0287    0.0490    0.5868  0.5573  -0.0672   0.1247\n",
       "sms_received   0.6621    0.0155   42.6914  0.0000   0.6317   0.6924\n",
       "==================================================================\n",
       "\n",
       "\"\"\""
      ]
     },
     "execution_count": 62,
     "metadata": {},
     "output_type": "execute_result"
    }
   ],
   "source": [
    "results.summary2()"
   ]
  },
  {
   "cell_type": "code",
   "execution_count": 63,
   "metadata": {},
   "outputs": [],
   "source": [
    "from sklearn.model_selection import train_test_split\n",
    "Xtrain,Xtest,ytrain,ytest=train_test_split(x,y,test_size=0.2)"
   ]
  },
  {
   "cell_type": "code",
   "execution_count": 64,
   "metadata": {},
   "outputs": [
    {
     "data": {
      "text/plain": [
       "LinearRegression()"
      ]
     },
     "execution_count": 64,
     "metadata": {},
     "output_type": "execute_result"
    }
   ],
   "source": [
    "from sklearn.linear_model import LinearRegression\n",
    "lin_reg=LinearRegression()\n",
    "lin_reg.fit(Xtrain, ytrain)"
   ]
  },
  {
   "cell_type": "code",
   "execution_count": 65,
   "metadata": {},
   "outputs": [],
   "source": [
    "pred_trn=lin_reg.predict(Xtrain)\n",
    "pred_tst=lin_reg.predict(Xtest)"
   ]
  },
  {
   "cell_type": "code",
   "execution_count": 66,
   "metadata": {},
   "outputs": [
    {
     "data": {
      "text/plain": [
       "array([0.16407932, 0.288706  , 0.21948974, ..., 0.11515037, 0.1727778 ,\n",
       "       0.17603973])"
      ]
     },
     "execution_count": 66,
     "metadata": {},
     "output_type": "execute_result"
    }
   ],
   "source": [
    "pred_tst"
   ]
  },
  {
   "cell_type": "code",
   "execution_count": 67,
   "metadata": {},
   "outputs": [],
   "source": [
    "for i in range(pred_trn.size):\n",
    "    if pred_trn[i]>=0.5:\n",
    "        pred_trn[i]=1\n",
    "    else:\n",
    "        pred_trn[i]=0"
   ]
  },
  {
   "cell_type": "code",
   "execution_count": 68,
   "metadata": {},
   "outputs": [],
   "source": [
    "for i in range(pred_tst.size):\n",
    "    if pred_tst[i]>=0.5:\n",
    "        pred_tst[i]=1\n",
    "    else:\n",
    "        pred_tst[i]=0"
   ]
  },
  {
   "cell_type": "code",
   "execution_count": 69,
   "metadata": {},
   "outputs": [
    {
     "data": {
      "text/plain": [
       "array([0., 0., 0., ..., 0., 0., 0.])"
      ]
     },
     "execution_count": 69,
     "metadata": {},
     "output_type": "execute_result"
    }
   ],
   "source": [
    "pred_tst"
   ]
  },
  {
   "cell_type": "code",
   "execution_count": 70,
   "metadata": {},
   "outputs": [
    {
     "data": {
      "text/plain": [
       "0.800445880158333"
      ]
     },
     "execution_count": 70,
     "metadata": {},
     "output_type": "execute_result"
    }
   ],
   "source": [
    "from sklearn.metrics import accuracy_score\n",
    "accuracy_score(ytest,pred_tst)"
   ]
  },
  {
   "cell_type": "code",
   "execution_count": 71,
   "metadata": {},
   "outputs": [],
   "source": [
    "from sklearn.metrics import r2_score, mean_squared_error, mean_absolute_error"
   ]
  },
  {
   "cell_type": "code",
   "execution_count": 72,
   "metadata": {},
   "outputs": [],
   "source": [
    "def mape(y_true, y_pred):\n",
    "    \"\"\"\n",
    "    This function calculates MAPE.\n",
    "    :param y_true: list of real numbers, true values\n",
    "    :param y_pred: list of real numbers, predicted values\n",
    "    :returns: mean absolute percentage error\n",
    "    \"\"\"\n",
    "    return np.mean(np.abs(np.array(y_pred) - np.array(y_true)) / np.array(y_true), axis=0)\n",
    "\n",
    "def adjR(y_true, y_pred,p):\n",
    "    R2=r2_score(y_true,y_pred)\n",
    "    n=10\n",
    "    return 1-(1-R2)*(n-1)/(n-p-1)"
   ]
  },
  {
   "cell_type": "code",
   "execution_count": 73,
   "metadata": {},
   "outputs": [
    {
     "name": "stderr",
     "output_type": "stream",
     "text": [
      "<ipython-input-72-10a015b7759f>:8: RuntimeWarning: invalid value encountered in true_divide\n",
      "  return np.mean(np.abs(np.array(y_pred) - np.array(y_true)) / np.array(y_true), axis=0)\n",
      "<ipython-input-72-10a015b7759f>:8: RuntimeWarning: invalid value encountered in true_divide\n",
      "  return np.mean(np.abs(np.array(y_pred) - np.array(y_true)) / np.array(y_true), axis=0)\n"
     ]
    },
    {
     "data": {
      "text/html": [
       "<div>\n",
       "<style scoped>\n",
       "    .dataframe tbody tr th:only-of-type {\n",
       "        vertical-align: middle;\n",
       "    }\n",
       "\n",
       "    .dataframe tbody tr th {\n",
       "        vertical-align: top;\n",
       "    }\n",
       "\n",
       "    .dataframe thead th {\n",
       "        text-align: right;\n",
       "    }\n",
       "</style>\n",
       "<table border=\"1\" class=\"dataframe\">\n",
       "  <thead>\n",
       "    <tr style=\"text-align: right;\">\n",
       "      <th></th>\n",
       "      <th>Algorithm</th>\n",
       "      <th>train Score</th>\n",
       "      <th>RMSE_tr</th>\n",
       "      <th>MSE_tr</th>\n",
       "      <th>MAE_tr</th>\n",
       "      <th>Mape_tr</th>\n",
       "      <th>Adjusted_r2_tr</th>\n",
       "      <th>test Score</th>\n",
       "      <th>RMSE_te</th>\n",
       "      <th>MSE_te</th>\n",
       "      <th>MAE_te</th>\n",
       "      <th>Mape_te</th>\n",
       "      <th>Adjusted_r2_te</th>\n",
       "    </tr>\n",
       "  </thead>\n",
       "  <tbody>\n",
       "    <tr>\n",
       "      <th>0</th>\n",
       "      <td>Simple Linear Reg Model</td>\n",
       "      <td>-0.252308</td>\n",
       "      <td>0.448859</td>\n",
       "      <td>0.201474</td>\n",
       "      <td>0.201474</td>\n",
       "      <td>NaN</td>\n",
       "      <td>-10.270769</td>\n",
       "      <td>-0.249304</td>\n",
       "      <td>0.446715</td>\n",
       "      <td>0.199554</td>\n",
       "      <td>0.199554</td>\n",
       "      <td>NaN</td>\n",
       "      <td>-10.243733</td>\n",
       "    </tr>\n",
       "  </tbody>\n",
       "</table>\n",
       "</div>"
      ],
      "text/plain": [
       "                 Algorithm  train Score   RMSE_tr    MSE_tr    MAE_tr  \\\n",
       "0  Simple Linear Reg Model    -0.252308  0.448859  0.201474  0.201474   \n",
       "\n",
       "   Mape_tr  Adjusted_r2_tr  test Score   RMSE_te    MSE_te    MAE_te  Mape_te  \\\n",
       "0      NaN      -10.270769   -0.249304  0.446715  0.199554  0.199554      NaN   \n",
       "\n",
       "   Adjusted_r2_te  \n",
       "0      -10.243733  "
      ]
     },
     "execution_count": 73,
     "metadata": {},
     "output_type": "execute_result"
    }
   ],
   "source": [
    "# Performance on train data\n",
    "LR1_tr_R2score=r2_score(ytrain,pred_trn)\n",
    "LR1_tr_RMSE=np.sqrt(mean_squared_error(ytrain, pred_trn))\n",
    "LR1_tr_MSE=mean_squared_error(ytrain, pred_trn)\n",
    "LR1_tr_MAE=mean_absolute_error(ytrain, pred_trn)\n",
    "LR1_tr_MAPE=mape(ytrain, pred_trn)\n",
    "LR1_tr_AR2=adjR(ytrain, pred_trn,p=len(x.columns))\n",
    "\n",
    "# Performance on test data\n",
    "LR1_te_R2score=r2_score(ytest,pred_tst)\n",
    "LR1_te_RMSE=np.sqrt(mean_squared_error(ytest,pred_tst))\n",
    "LR1_te_MSE=mean_squared_error(ytest, pred_tst)\n",
    "LR1_te_MAE=mean_absolute_error(ytest, pred_tst)\n",
    "LR1_te_MAPE=mape(ytest, pred_tst)\n",
    "LR1_te_AR2=adjR(ytest, pred_tst,p=len(x.columns))\n",
    "\n",
    "model_comp=pd.DataFrame({'Algorithm':['Simple Linear Reg Model'],\n",
    "                       'train Score':LR1_tr_R2score,'RMSE_tr': LR1_tr_RMSE, 'MSE_tr': LR1_tr_MSE, 'MAE_tr': LR1_tr_MAE,\n",
    "                         \"Mape_tr\":LR1_tr_MAPE, \"Adjusted_r2_tr\":LR1_tr_AR2,\n",
    "                      'test Score':LR1_te_R2score,'RMSE_te': LR1_te_RMSE, 'MSE_te': LR1_te_MSE, 'MAE_te': LR1_te_MAE,\n",
    "                        \"Mape_te\":LR1_te_MAPE, \"Adjusted_r2_te\":LR1_te_AR2})\n",
    "model_comp"
   ]
  },
  {
   "cell_type": "code",
   "execution_count": 74,
   "metadata": {},
   "outputs": [
    {
     "data": {
      "text/plain": [
       "LogisticRegression()"
      ]
     },
     "execution_count": 74,
     "metadata": {},
     "output_type": "execute_result"
    }
   ],
   "source": [
    "from sklearn.linear_model import LogisticRegression\n",
    "log_reg=LogisticRegression()\n",
    "log_reg.fit(Xtrain, ytrain)"
   ]
  },
  {
   "cell_type": "code",
   "execution_count": 75,
   "metadata": {},
   "outputs": [],
   "source": [
    "pred_trn=lin_reg.predict(Xtrain)\n",
    "pred_tst=lin_reg.predict(Xtest)"
   ]
  },
  {
   "cell_type": "code",
   "execution_count": 76,
   "metadata": {},
   "outputs": [
    {
     "name": "stderr",
     "output_type": "stream",
     "text": [
      "<ipython-input-72-10a015b7759f>:8: RuntimeWarning: divide by zero encountered in true_divide\n",
      "  return np.mean(np.abs(np.array(y_pred) - np.array(y_true)) / np.array(y_true), axis=0)\n",
      "<ipython-input-72-10a015b7759f>:8: RuntimeWarning: divide by zero encountered in true_divide\n",
      "  return np.mean(np.abs(np.array(y_pred) - np.array(y_true)) / np.array(y_true), axis=0)\n"
     ]
    },
    {
     "data": {
      "text/html": [
       "<div>\n",
       "<style scoped>\n",
       "    .dataframe tbody tr th:only-of-type {\n",
       "        vertical-align: middle;\n",
       "    }\n",
       "\n",
       "    .dataframe tbody tr th {\n",
       "        vertical-align: top;\n",
       "    }\n",
       "\n",
       "    .dataframe thead th {\n",
       "        text-align: right;\n",
       "    }\n",
       "</style>\n",
       "<table border=\"1\" class=\"dataframe\">\n",
       "  <thead>\n",
       "    <tr style=\"text-align: right;\">\n",
       "      <th></th>\n",
       "      <th>Algorithm</th>\n",
       "      <th>train Score</th>\n",
       "      <th>RMSE_tr</th>\n",
       "      <th>MSE_tr</th>\n",
       "      <th>MAE_tr</th>\n",
       "      <th>Mape_tr</th>\n",
       "      <th>Adjusted_r2_tr</th>\n",
       "      <th>test Score</th>\n",
       "      <th>RMSE_te</th>\n",
       "      <th>MSE_te</th>\n",
       "      <th>MAE_te</th>\n",
       "      <th>Mape_te</th>\n",
       "      <th>Adjusted_r2_te</th>\n",
       "    </tr>\n",
       "  </thead>\n",
       "  <tbody>\n",
       "    <tr>\n",
       "      <th>0</th>\n",
       "      <td>Logistic Reg Model</td>\n",
       "      <td>0.022251</td>\n",
       "      <td>0.396614</td>\n",
       "      <td>0.157303</td>\n",
       "      <td>0.314605</td>\n",
       "      <td>inf</td>\n",
       "      <td>-7.799741</td>\n",
       "      <td>0.016654</td>\n",
       "      <td>0.396323</td>\n",
       "      <td>0.157072</td>\n",
       "      <td>0.314515</td>\n",
       "      <td>inf</td>\n",
       "      <td>-7.850116</td>\n",
       "    </tr>\n",
       "  </tbody>\n",
       "</table>\n",
       "</div>"
      ],
      "text/plain": [
       "            Algorithm  train Score   RMSE_tr    MSE_tr    MAE_tr  Mape_tr  \\\n",
       "0  Logistic Reg Model     0.022251  0.396614  0.157303  0.314605      inf   \n",
       "\n",
       "   Adjusted_r2_tr  test Score   RMSE_te    MSE_te    MAE_te  Mape_te  \\\n",
       "0       -7.799741    0.016654  0.396323  0.157072  0.314515      inf   \n",
       "\n",
       "   Adjusted_r2_te  \n",
       "0       -7.850116  "
      ]
     },
     "execution_count": 76,
     "metadata": {},
     "output_type": "execute_result"
    }
   ],
   "source": [
    "# Performance on train data\n",
    "LR1_tr_R2score=r2_score(ytrain,pred_trn)\n",
    "LR1_tr_RMSE=np.sqrt(mean_squared_error(ytrain, pred_trn))\n",
    "LR1_tr_MSE=mean_squared_error(ytrain, pred_trn)\n",
    "LR1_tr_MAE=mean_absolute_error(ytrain, pred_trn)\n",
    "LR1_tr_MAPE=mape(ytrain, pred_trn)\n",
    "LR1_tr_AR2=adjR(ytrain, pred_trn,p=len(x.columns))\n",
    "\n",
    "# Performance on test data\n",
    "LR1_te_R2score=r2_score(ytest,pred_tst)\n",
    "LR1_te_RMSE=np.sqrt(mean_squared_error(ytest,pred_tst))\n",
    "LR1_te_MSE=mean_squared_error(ytest, pred_tst)\n",
    "LR1_te_MAE=mean_absolute_error(ytest, pred_tst)\n",
    "LR1_te_MAPE=mape(ytest, pred_tst)\n",
    "LR1_te_AR2=adjR(ytest, pred_tst,p=len(x.columns))\n",
    "\n",
    "model_comp=pd.DataFrame({'Algorithm':['Logistic Reg Model'],\n",
    "                       'train Score':LR1_tr_R2score,'RMSE_tr': LR1_tr_RMSE, 'MSE_tr': LR1_tr_MSE, 'MAE_tr': LR1_tr_MAE,\n",
    "                         \"Mape_tr\":LR1_tr_MAPE, \"Adjusted_r2_tr\":LR1_tr_AR2,\n",
    "                      'test Score':LR1_te_R2score,'RMSE_te': LR1_te_RMSE, 'MSE_te': LR1_te_MSE, 'MAE_te': LR1_te_MAE,\n",
    "                        \"Mape_te\":LR1_te_MAPE, \"Adjusted_r2_te\":LR1_te_AR2})\n",
    "model_comp"
   ]
  }
 ],
 "metadata": {
  "kernelspec": {
   "display_name": "Python 3",
   "language": "python",
   "name": "python3"
  },
  "language_info": {
   "codemirror_mode": {
    "name": "ipython",
    "version": 3
   },
   "file_extension": ".py",
   "mimetype": "text/x-python",
   "name": "python",
   "nbconvert_exporter": "python",
   "pygments_lexer": "ipython3",
   "version": "3.8.3"
  }
 },
 "nbformat": 4,
 "nbformat_minor": 2
}
